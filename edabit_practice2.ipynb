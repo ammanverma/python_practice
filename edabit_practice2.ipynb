{
 "cells": [
  {
   "cell_type": "markdown",
   "id": "9a5be492",
   "metadata": {},
   "source": [
    "# Day3:-"
   ]
  },
  {
   "cell_type": "markdown",
   "id": "d36f9046",
   "metadata": {},
   "source": [
    "### Find the Perimeter of a Rectangle"
   ]
  },
  {
   "cell_type": "code",
   "execution_count": 1,
   "id": "c6ad4101",
   "metadata": {},
   "outputs": [
    {
     "name": "stdout",
     "output_type": "stream",
     "text": [
      "enter the length of rectangle :12.5\n",
      "enter the width of rectangle :6.7\n",
      "the perimeter is 38.4\n"
     ]
    }
   ],
   "source": [
    "def perimeter(length,width):\n",
    "    perimeter=2*(length+width)\n",
    "    return(perimeter)\n",
    "length=float(input(\"enter the length of rectangle :\"))\n",
    "width=float(input(\"enter the width of rectangle :\"))\n",
    "print(\"the perimeter is\",perimeter(length,width))"
   ]
  },
  {
   "cell_type": "markdown",
   "id": "4df3daf3",
   "metadata": {},
   "source": [
    "### Power Calculator in electricity"
   ]
  },
  {
   "cell_type": "code",
   "execution_count": 2,
   "id": "e60ef3b2",
   "metadata": {},
   "outputs": [
    {
     "name": "stdout",
     "output_type": "stream",
     "text": [
      "enter the voltage in volts :12.5\n",
      "enter the curent in ampere :8\n",
      "The power in the circuit is 100.0\n"
     ]
    }
   ],
   "source": [
    "def power(voltage,current):\n",
    "    power=voltage*current\n",
    "    return(power)\n",
    "voltage=float(input(\"enter the voltage in volts :\"))\n",
    "current=float(input(\"enter the curent in ampere :\"))\n",
    "print(\"The power in the circuit is\",power(voltage,current))"
   ]
  },
  {
   "cell_type": "markdown",
   "id": "136ae655",
   "metadata": {},
   "source": [
    "### Sum of Polygon Angles"
   ]
  },
  {
   "cell_type": "code",
   "execution_count": 6,
   "id": "3f0bd8a3",
   "metadata": {},
   "outputs": [
    {
     "name": "stdout",
     "output_type": "stream",
     "text": [
      "enter the sides of a polygon :5\n",
      "The sum of internal angles is : 540\n"
     ]
    }
   ],
   "source": [
    "def polygon(n):\n",
    "    polygon=(n - 2) * 180\n",
    "    return(polygon)\n",
    "n=int(input(\"enter the sides of a polygon :\"))\n",
    "print(\"The sum of internal angles is :\",polygon(n))"
   ]
  },
  {
   "cell_type": "markdown",
   "id": "2a64d539",
   "metadata": {},
   "source": [
    "### To the Power of _____"
   ]
  },
  {
   "cell_type": "code",
   "execution_count": 8,
   "id": "9a95ab8b",
   "metadata": {},
   "outputs": [
    {
     "name": "stdout",
     "output_type": "stream",
     "text": [
      "enter the whole number :10\n",
      "The exponent is 10000000000\n"
     ]
    }
   ],
   "source": [
    "def power(n):\n",
    "    power=n**n\n",
    "    return(power)\n",
    "n=int(input(\"enter the whole number :\"))\n",
    "print(\"The exponent is\",power(n))"
   ]
  },
  {
   "cell_type": "markdown",
   "id": "cfeb8af6",
   "metadata": {},
   "source": [
    "### Boolean to String Conversion"
   ]
  },
  {
   "cell_type": "code",
   "execution_count": 14,
   "id": "49902564",
   "metadata": {},
   "outputs": [
    {
     "name": "stdout",
     "output_type": "stream",
     "text": [
      "the answer is True\n"
     ]
    },
    {
     "data": {
      "text/plain": [
       "str"
      ]
     },
     "execution_count": 14,
     "metadata": {},
     "output_type": "execute_result"
    }
   ],
   "source": [
    "boolean = True\n",
    "myvar = \"The answer is \" + str(boolean)\n",
    "print(myvar)\n",
    "type(myvar)"
   ]
  },
  {
   "cell_type": "markdown",
   "id": "afb11a42",
   "metadata": {},
   "source": [
    "# Day 4:-"
   ]
  },
  {
   "cell_type": "markdown",
   "id": "11852f13",
   "metadata": {},
   "source": [
    "### Return the First Element in a List"
   ]
  },
  {
   "cell_type": "code",
   "execution_count": 12,
   "id": "c17d44a8",
   "metadata": {},
   "outputs": [
    {
     "name": "stdout",
     "output_type": "stream",
     "text": [
      "the original list is :[1, 2, 3, 4]\n",
      "the first element is :1\n"
     ]
    }
   ],
   "source": [
    "test_list=[1,2,3,4]\n",
    "print(\"the original list is :\"+ str(test_list))\n",
    "res_list=(test_list[0])\n",
    "print(\"the first element is :\"+ str(res_list))"
   ]
  },
  {
   "cell_type": "markdown",
   "id": "6c4ba569",
   "metadata": {},
   "source": [
    "### Return the first and last element in a list"
   ]
  },
  {
   "cell_type": "code",
   "execution_count": 11,
   "id": "eeb590b6",
   "metadata": {},
   "outputs": [
    {
     "name": "stdout",
     "output_type": "stream",
     "text": [
      "the original list is :[8, 9, 20, 57]\n",
      "the first element is :(8, 57)\n"
     ]
    }
   ],
   "source": [
    "test_list=[8,9,20,57]\n",
    "print(\"the original list is :\"+ str(test_list))\n",
    "res_list=(test_list[0]),(test_list[-1])\n",
    "print(\"the first element is :\"+ str(res_list))"
   ]
  },
  {
   "cell_type": "markdown",
   "id": "9e1df2a7",
   "metadata": {},
   "source": [
    "### Football Points"
   ]
  },
  {
   "cell_type": "markdown",
   "id": "4159c86f",
   "metadata": {},
   "source": [
    "Create a function that takes the number of wins, draws and losses and calculates the number of points a football team has obtained so far.<br>\n",
    "\n",
    "wins get 3 points<br>\n",
    "draws get 1 point<br>\n",
    "losses get 0 points<br>"
   ]
  },
  {
   "cell_type": "code",
   "execution_count": 16,
   "id": "59d7dcdf",
   "metadata": {},
   "outputs": [
    {
     "name": "stdout",
     "output_type": "stream",
     "text": [
      "Enter total number of wins :3\n",
      "Enter total number of draws :4\n",
      "Enter total number of losses :2\n",
      "The total points becomes : 13\n"
     ]
    }
   ],
   "source": [
    "def points(wins,draws,losses):\n",
    "    points=(wins*3)+(draws*1)+(losses*0)\n",
    "    return(points)\n",
    "wins=int(input(\"Enter total number of wins :\"))\n",
    "draws=int(input(\"Enter total number of draws :\"))\n",
    "losses=int(input(\"Enter total number of losses :\"))\n",
    "print(\"The total points becomes :\",points(wins,draws,losses))"
   ]
  },
  {
   "cell_type": "markdown",
   "id": "db4e6793",
   "metadata": {},
   "source": [
    "### The Farm Problem"
   ]
  },
  {
   "cell_type": "markdown",
   "id": "34941bf7",
   "metadata": {},
   "source": [
    "a farmer is asking you to tell him how many legs can be counted among all his animals. The farmer breeds three species:<br>\n",
    "\n",
    "chickens = 2 legs<br>\n",
    "cows = 4 legs<br>\n",
    "pigs = 4 legs<br>"
   ]
  },
  {
   "cell_type": "code",
   "execution_count": 19,
   "id": "b7d7da08",
   "metadata": {},
   "outputs": [
    {
     "name": "stdout",
     "output_type": "stream",
     "text": [
      "enter the no. of chickens :2\n",
      "enter the no. of cows :3\n",
      "enter the no. of pigs :5\n",
      "The total number of legs are : 36\n"
     ]
    }
   ],
   "source": [
    "def total_legs(chicken,cows,pigs):\n",
    "    total_legs=(chicken*2)+(cows*4)+(pigs*4)\n",
    "    return(total_legs)\n",
    "chicken=int(input(\"enter the no. of chickens :\"))\n",
    "cows=int(input(\"enter the no. of cows :\"))\n",
    "pigs=int(input(\"enter the no. of pigs :\"))\n",
    "print(\"The total number of legs are :\",total_legs(chicken,cows,pigs))"
   ]
  },
  {
   "cell_type": "markdown",
   "id": "db61d226",
   "metadata": {},
   "source": [
    "### Basic Variable Assignment"
   ]
  },
  {
   "cell_type": "markdown",
   "id": "8aa01a37",
   "metadata": {},
   "source": [
    "A student learning Python was trying to make a function.<br> His code should concatenate a passed string name with string \"Edabit\"<br> and store it in a variable called result. "
   ]
  },
  {
   "cell_type": "code",
   "execution_count": 24,
   "id": "dcf34562",
   "metadata": {},
   "outputs": [
    {
     "name": "stdout",
     "output_type": "stream",
     "text": [
      "enter the string name :aman s verma\n",
      "aman s vermaedabit\n"
     ]
    }
   ],
   "source": [
    "def new_string(name):\n",
    "    new_string=name+\"edabit\"\n",
    "    return(new_string)\n",
    "name=str(input(\"enter the string name :\"))\n",
    "print(new_string(name))"
   ]
  },
  {
   "cell_type": "code",
   "execution_count": null,
   "id": "dc81af8c",
   "metadata": {},
   "outputs": [],
   "source": []
  }
 ],
 "metadata": {
  "kernelspec": {
   "display_name": "Python 3 (ipykernel)",
   "language": "python",
   "name": "python3"
  },
  "language_info": {
   "codemirror_mode": {
    "name": "ipython",
    "version": 3
   },
   "file_extension": ".py",
   "mimetype": "text/x-python",
   "name": "python",
   "nbconvert_exporter": "python",
   "pygments_lexer": "ipython3",
   "version": "3.9.7"
  }
 },
 "nbformat": 4,
 "nbformat_minor": 5
}
