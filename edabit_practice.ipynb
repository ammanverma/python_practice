{
 "cells": [
  {
   "cell_type": "markdown",
   "id": "e920d5c0",
   "metadata": {},
   "source": [
    "# Day 1:-"
   ]
  },
  {
   "cell_type": "markdown",
   "id": "32a369dc",
   "metadata": {},
   "source": [
    "### Return the Sum of Two Numbers"
   ]
  },
  {
   "cell_type": "code",
   "execution_count": 15,
   "id": "313ca6da",
   "metadata": {},
   "outputs": [
    {
     "name": "stdout",
     "output_type": "stream",
     "text": [
      "the sum is 37\n"
     ]
    }
   ],
   "source": [
    "def sum(a,b):\n",
    "    sum=a+b\n",
    "    return(sum)\n",
    "a=20\n",
    "b=17\n",
    "print(\"the sum is\",sum(a,b))"
   ]
  },
  {
   "cell_type": "code",
   "execution_count": 16,
   "id": "8c6b59c1",
   "metadata": {},
   "outputs": [
    {
     "name": "stdout",
     "output_type": "stream",
     "text": [
      "enter first number :8\n",
      "enter second number :4\n",
      "the sum is 12.0\n"
     ]
    }
   ],
   "source": [
    "def sum(a,b):\n",
    "    sum=a+b\n",
    "    return(sum)\n",
    "a=float(input(\"enter first number :\"))\n",
    "b=float(input(\"enter second number :\"))\n",
    "print(\"the sum is\",sum(a,b))"
   ]
  },
  {
   "cell_type": "code",
   "execution_count": 17,
   "id": "f336cded",
   "metadata": {},
   "outputs": [
    {
     "name": "stdout",
     "output_type": "stream",
     "text": [
      "enter the x :4\n",
      "enter the y :5\n",
      "the addition is 9\n"
     ]
    }
   ],
   "source": [
    "def add(x,y):\n",
    "    add=x+y\n",
    "    return(add)\n",
    "x=int(input(\"enter the x :\"))\n",
    "y=int(input(\"enter the y :\"))\n",
    "print(\"the addition is\",add(x,y))"
   ]
  },
  {
   "cell_type": "markdown",
   "id": "71cf0069",
   "metadata": {},
   "source": [
    "### Return the Next Number from the Integer Passed"
   ]
  },
  {
   "cell_type": "code",
   "execution_count": 18,
   "id": "8b39ae75",
   "metadata": {},
   "outputs": [
    {
     "name": "stdout",
     "output_type": "stream",
     "text": [
      "enter the number for increment :5\n",
      "the next number is : 6\n"
     ]
    }
   ],
   "source": [
    "def increment(a):\n",
    "    increment=a+1\n",
    "    return(increment)\n",
    "a=int(input(\"enter the number for increment :\"))\n",
    "print(\"the next number is :\",increment(a))"
   ]
  },
  {
   "cell_type": "markdown",
   "id": "fa2fd54a",
   "metadata": {},
   "source": [
    "### Convert Minutes into Seconds"
   ]
  },
  {
   "cell_type": "code",
   "execution_count": 19,
   "id": "76b38417",
   "metadata": {},
   "outputs": [
    {
     "name": "stdout",
     "output_type": "stream",
     "text": [
      "enter minutes :5\n",
      "300\n"
     ]
    }
   ],
   "source": [
    "def seconds(x):\n",
    "    seconds=x*60\n",
    "    return(seconds)\n",
    "x=int(input(\"enter minutes :\"))\n",
    "print(seconds(x))"
   ]
  },
  {
   "cell_type": "markdown",
   "id": "d9a35fcf",
   "metadata": {},
   "source": [
    "### Area of a Triangle"
   ]
  },
  {
   "cell_type": "code",
   "execution_count": 20,
   "id": "76a2ee0a",
   "metadata": {},
   "outputs": [
    {
     "name": "stdout",
     "output_type": "stream",
     "text": [
      "enter base of triangle :4\n",
      "enter height of triangle :5\n",
      "the area of this triangle is : 10.0\n"
     ]
    }
   ],
   "source": [
    "def area(base,height):\n",
    "    area=(base*height)/2\n",
    "    return(area)\n",
    "base=float(input(\"enter base of triangle :\"))\n",
    "height=float(input(\"enter height of triangle :\"))\n",
    "print(\"the area of this triangle is :\",area(base,height))"
   ]
  },
  {
   "cell_type": "markdown",
   "id": "d079a3ab",
   "metadata": {},
   "source": [
    "### Cubes of a number"
   ]
  },
  {
   "cell_type": "code",
   "execution_count": 24,
   "id": "5704acd4",
   "metadata": {},
   "outputs": [
    {
     "name": "stdout",
     "output_type": "stream",
     "text": [
      "enter number :5\n",
      "the cube is : 125\n"
     ]
    }
   ],
   "source": [
    "number=int(input(\"enter number :\"))\n",
    "cube=number**3\n",
    "print(\"the cube is :\",cube)"
   ]
  },
  {
   "cell_type": "code",
   "execution_count": 22,
   "id": "75e53d80",
   "metadata": {},
   "outputs": [
    {
     "name": "stdout",
     "output_type": "stream",
     "text": [
      " Please Enter any numeric Value : 5\n",
      "The Cube of a Given Number 5.0  = 125.0\n"
     ]
    }
   ],
   "source": [
    "number = float(input(\" Please Enter any numeric Value : \"))\n",
    "\n",
    "cube = number * number * number\n",
    "\n",
    "print(\"The Cube of a Given Number {0}  = {1}\".format(number, cube))"
   ]
  },
  {
   "cell_type": "code",
   "execution_count": 25,
   "id": "8cb86ba1",
   "metadata": {},
   "outputs": [
    {
     "name": "stdout",
     "output_type": "stream",
     "text": [
      "enter number :5\n",
      "the cube is : 125\n"
     ]
    }
   ],
   "source": [
    "def cube(x):\n",
    "    cube=x**3\n",
    "    return(cube)\n",
    "x=int(input(\"enter number :\"))\n",
    "print(\"the cube is :\",cube(x))"
   ]
  },
  {
   "cell_type": "code",
   "execution_count": 28,
   "id": "b81b36a9",
   "metadata": {},
   "outputs": [
    {
     "name": "stdout",
     "output_type": "stream",
     "text": [
      "enter number :5\n",
      "the cube of 5 = <function cube at 0x0000023521076F70>\n"
     ]
    }
   ],
   "source": [
    "def cube(x):\n",
    "    cube=x**3\n",
    "    return(cube)\n",
    "x=int(input(\"enter number :\"))\n",
    "print(\"the cube of {0} = {1}\".format(x,cube)) ## its not giving output because our \"cube\" is a udf, wheras .format is for string"
   ]
  },
  {
   "cell_type": "code",
   "execution_count": null,
   "id": "b75bea91",
   "metadata": {},
   "outputs": [],
   "source": []
  }
 ],
 "metadata": {
  "kernelspec": {
   "display_name": "Python 3 (ipykernel)",
   "language": "python",
   "name": "python3"
  },
  "language_info": {
   "codemirror_mode": {
    "name": "ipython",
    "version": 3
   },
   "file_extension": ".py",
   "mimetype": "text/x-python",
   "name": "python",
   "nbconvert_exporter": "python",
   "pygments_lexer": "ipython3",
   "version": "3.9.7"
  }
 },
 "nbformat": 4,
 "nbformat_minor": 5
}
