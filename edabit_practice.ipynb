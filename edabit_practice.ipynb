{
 "cells": [
  {
   "cell_type": "markdown",
   "id": "e920d5c0",
   "metadata": {},
   "source": [
    "# Day 1:-"
   ]
  },
  {
   "cell_type": "markdown",
   "id": "32a369dc",
   "metadata": {},
   "source": [
    "### Return the Sum of Two Numbers"
   ]
  },
  {
   "cell_type": "code",
   "execution_count": 1,
   "id": "313ca6da",
   "metadata": {},
   "outputs": [
    {
     "name": "stdout",
     "output_type": "stream",
     "text": [
      "the sum is 37\n"
     ]
    }
   ],
   "source": [
    "def sum(a,b):\n",
    "    sum=a+b\n",
    "    return(sum)\n",
    "a=20\n",
    "b=17\n",
    "print(\"the sum is\",sum(a,b))"
   ]
  },
  {
   "cell_type": "code",
   "execution_count": 2,
   "id": "8c6b59c1",
   "metadata": {},
   "outputs": [
    {
     "name": "stdout",
     "output_type": "stream",
     "text": [
      "enter first number :5\n",
      "enter second number :10\n",
      "the sum is 15.0\n"
     ]
    }
   ],
   "source": [
    "def sum(a,b):\n",
    "    sum=a+b\n",
    "    return(sum)\n",
    "a=float(input(\"enter first number :\"))\n",
    "b=float(input(\"enter second number :\"))\n",
    "print(\"the sum is\",sum(a,b))"
   ]
  },
  {
   "cell_type": "code",
   "execution_count": 3,
   "id": "f336cded",
   "metadata": {},
   "outputs": [
    {
     "name": "stdout",
     "output_type": "stream",
     "text": [
      "enter the x :25\n",
      "enter the y :30\n",
      "the addition is 55\n"
     ]
    }
   ],
   "source": [
    "def add(x,y):\n",
    "    add=x+y\n",
    "    return(add)\n",
    "x=int(input(\"enter the x :\"))\n",
    "y=int(input(\"enter the y :\"))\n",
    "print(\"the addition is\",add(x,y))"
   ]
  },
  {
   "cell_type": "markdown",
   "id": "71cf0069",
   "metadata": {},
   "source": [
    "### Return the Next Number from the Integer Passed"
   ]
  },
  {
   "cell_type": "code",
   "execution_count": 4,
   "id": "8b39ae75",
   "metadata": {},
   "outputs": [
    {
     "name": "stdout",
     "output_type": "stream",
     "text": [
      "enter the number for increment :8\n",
      "the next number is : 9\n"
     ]
    }
   ],
   "source": [
    "def increment(a):\n",
    "    increment=a+1\n",
    "    return(increment)\n",
    "a=int(input(\"enter the number for increment :\"))\n",
    "print(\"the next number is :\",increment(a))"
   ]
  },
  {
   "cell_type": "markdown",
   "id": "fa2fd54a",
   "metadata": {},
   "source": [
    "### Convert Minutes into Seconds"
   ]
  },
  {
   "cell_type": "code",
   "execution_count": 5,
   "id": "76b38417",
   "metadata": {},
   "outputs": [
    {
     "name": "stdout",
     "output_type": "stream",
     "text": [
      "enter minutes :25\n",
      "1500\n"
     ]
    }
   ],
   "source": [
    "def seconds(x):\n",
    "    seconds=x*60\n",
    "    return(seconds)\n",
    "x=int(input(\"enter minutes :\"))\n",
    "print(seconds(x))"
   ]
  },
  {
   "cell_type": "markdown",
   "id": "d9a35fcf",
   "metadata": {},
   "source": [
    "### Area of a Triangle"
   ]
  },
  {
   "cell_type": "code",
   "execution_count": 6,
   "id": "76a2ee0a",
   "metadata": {},
   "outputs": [
    {
     "name": "stdout",
     "output_type": "stream",
     "text": [
      "enter base of triangle :40\n",
      "enter height of triangle :20\n",
      "the area of this triangle is : 400.0\n"
     ]
    }
   ],
   "source": [
    "def area(base,height):\n",
    "    area=(base*height)/2\n",
    "    return(area)\n",
    "base=float(input(\"enter base of triangle :\"))\n",
    "height=float(input(\"enter height of triangle :\"))\n",
    "print(\"the area of this triangle is :\",area(base,height))"
   ]
  },
  {
   "cell_type": "markdown",
   "id": "d079a3ab",
   "metadata": {},
   "source": [
    "### Cubes of a number"
   ]
  },
  {
   "cell_type": "code",
   "execution_count": 7,
   "id": "5704acd4",
   "metadata": {},
   "outputs": [
    {
     "name": "stdout",
     "output_type": "stream",
     "text": [
      "enter number :3\n",
      "the cube is : 27\n"
     ]
    }
   ],
   "source": [
    "number=int(input(\"enter number :\"))\n",
    "cube=number**3\n",
    "print(\"the cube is :\",cube)"
   ]
  },
  {
   "cell_type": "code",
   "execution_count": 8,
   "id": "75e53d80",
   "metadata": {},
   "outputs": [
    {
     "name": "stdout",
     "output_type": "stream",
     "text": [
      " Please Enter any numeric Value : 5.2\n",
      "The Cube of a Given Number 5.2  = 140.60800000000003\n"
     ]
    }
   ],
   "source": [
    "number = float(input(\" Please Enter any numeric Value : \"))\n",
    "\n",
    "cube = number * number * number\n",
    "\n",
    "print(\"The Cube of a Given Number {0}  = {1}\".format(number, cube))"
   ]
  },
  {
   "cell_type": "code",
   "execution_count": 9,
   "id": "8cb86ba1",
   "metadata": {},
   "outputs": [
    {
     "name": "stdout",
     "output_type": "stream",
     "text": [
      "enter number :8\n",
      "the cube is : 512\n"
     ]
    }
   ],
   "source": [
    "def cube(x):\n",
    "    cube=x**3\n",
    "    return(cube)\n",
    "x=int(input(\"enter number :\"))\n",
    "print(\"the cube is :\",cube(x))"
   ]
  },
  {
   "cell_type": "code",
   "execution_count": 10,
   "id": "b81b36a9",
   "metadata": {},
   "outputs": [
    {
     "name": "stdout",
     "output_type": "stream",
     "text": [
      "enter number :8\n",
      "the cube of 8 = <function cube at 0x000001D7D3A988B0>\n"
     ]
    }
   ],
   "source": [
    "def cube(x):\n",
    "    cube=x**3\n",
    "    return(cube)\n",
    "x=int(input(\"enter number :\"))\n",
    "print(\"the cube of {0} = {1}\".format(x,cube)) ## its not giving output because our \"cube\" is a udf, wheras .format is for string"
   ]
  },
  {
   "cell_type": "markdown",
   "id": "47159101",
   "metadata": {},
   "source": [
    "# Day 2:-"
   ]
  },
  {
   "cell_type": "markdown",
   "id": "a2ea866f",
   "metadata": {},
   "source": [
    "### Convert Hours into Seconds:-"
   ]
  },
  {
   "cell_type": "code",
   "execution_count": 11,
   "id": "584499c9",
   "metadata": {},
   "outputs": [
    {
     "name": "stdout",
     "output_type": "stream",
     "text": [
      "Enter the hour :2\n",
      "7200.0 seconds\n"
     ]
    }
   ],
   "source": [
    "def seconds(x):\n",
    "    seconds=x*3600\n",
    "    return(seconds)\n",
    "x=float(input(\"Enter the hour :\"))\n",
    "print(seconds(x),\"seconds\")"
   ]
  },
  {
   "cell_type": "markdown",
   "id": "24935bcf",
   "metadata": {},
   "source": [
    "### Maximum Edge of a Triangle:-"
   ]
  },
  {
   "cell_type": "code",
   "execution_count": 12,
   "id": "b7a21300",
   "metadata": {},
   "outputs": [
    {
     "name": "stdout",
     "output_type": "stream",
     "text": [
      "enter the first side :12\n",
      "enter the second side :15\n",
      "third side maximum range is 26\n"
     ]
    }
   ],
   "source": [
    "def largest_side(a,b):\n",
    "    largest_side=(a+b)-1\n",
    "    return(largest_side)\n",
    "a=int(input(\"enter the first side :\"))\n",
    "b=int(input(\"enter the second side :\"))\n",
    "print(\"third side maximum range is\",largest_side(a,b))"
   ]
  },
  {
   "cell_type": "markdown",
   "id": "7c711f51",
   "metadata": {},
   "source": [
    "### Return the Remainder from Two Numbers:-"
   ]
  },
  {
   "cell_type": "code",
   "execution_count": 19,
   "id": "f2fa1e26",
   "metadata": {},
   "outputs": [
    {
     "name": "stdout",
     "output_type": "stream",
     "text": [
      "enter the positive whole number :5\n",
      "enter the other positive whole number :7\n",
      "the reminder of these two numbers is : 2\n"
     ]
    }
   ],
   "source": [
    "def reminder(x,y):\n",
    "    reminder=y%x           ## \"%\" sign gives reminder of two numbers\n",
    "    return(reminder)      \n",
    "x=int(input(\"enter the positive whole number :\"))\n",
    "y=int(input(\"enter the other positive whole number :\"))\n",
    "print(\"the reminder of these two numbers is :\",reminder(x,y))"
   ]
  },
  {
   "cell_type": "markdown",
   "id": "7307a3cf",
   "metadata": {},
   "source": [
    "### Return a String as an Integer:-"
   ]
  },
  {
   "cell_type": "code",
   "execution_count": 28,
   "id": "7d9fbebe",
   "metadata": {},
   "outputs": [
    {
     "name": "stdout",
     "output_type": "stream",
     "text": [
      "enter a positive whole number :5\n"
     ]
    },
    {
     "data": {
      "text/plain": [
       "str"
      ]
     },
     "execution_count": 28,
     "metadata": {},
     "output_type": "execute_result"
    }
   ],
   "source": [
    "number=input(\"enter a positive whole number :\")\n",
    "type(number)"
   ]
  },
  {
   "cell_type": "code",
   "execution_count": 31,
   "id": "b98f55d7",
   "metadata": {},
   "outputs": [
    {
     "data": {
      "text/plain": [
       "int"
      ]
     },
     "execution_count": 31,
     "metadata": {},
     "output_type": "execute_result"
    }
   ],
   "source": [
    "## converting string to integer\n",
    "\n",
    "type(int(number))\n"
   ]
  },
  {
   "cell_type": "code",
   "execution_count": 32,
   "id": "7601a904",
   "metadata": {},
   "outputs": [
    {
     "data": {
      "text/plain": [
       "5"
      ]
     },
     "execution_count": 32,
     "metadata": {},
     "output_type": "execute_result"
    }
   ],
   "source": [
    "int(number)"
   ]
  },
  {
   "cell_type": "markdown",
   "id": "5b224f2b",
   "metadata": {},
   "source": [
    "### Convert Age to Days:-"
   ]
  },
  {
   "cell_type": "code",
   "execution_count": 33,
   "id": "34e8eb3e",
   "metadata": {},
   "outputs": [
    {
     "name": "stdout",
     "output_type": "stream",
     "text": [
      "enter age in years :28\n",
      "your age in days is : 10220\n"
     ]
    }
   ],
   "source": [
    "## using 365 days as length of a year\n",
    "\n",
    "def age(x):\n",
    "    age=x*365\n",
    "    return(age)\n",
    "x=int(input(\"enter age in years :\"))\n",
    "print(\"your age in days is :\",age(x))"
   ]
  },
  {
   "cell_type": "code",
   "execution_count": null,
   "id": "39722667",
   "metadata": {},
   "outputs": [],
   "source": []
  }
 ],
 "metadata": {
  "kernelspec": {
   "display_name": "Python 3 (ipykernel)",
   "language": "python",
   "name": "python3"
  },
  "language_info": {
   "codemirror_mode": {
    "name": "ipython",
    "version": 3
   },
   "file_extension": ".py",
   "mimetype": "text/x-python",
   "name": "python",
   "nbconvert_exporter": "python",
   "pygments_lexer": "ipython3",
   "version": "3.9.7"
  }
 },
 "nbformat": 4,
 "nbformat_minor": 5
}
